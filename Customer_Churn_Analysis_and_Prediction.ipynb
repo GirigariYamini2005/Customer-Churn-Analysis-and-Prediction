{
  "nbformat": 4,
  "nbformat_minor": 0,
  "metadata": {
    "colab": {
      "provenance": []
    },
    "kernelspec": {
      "name": "python3",
      "display_name": "Python 3"
    },
    "language_info": {
      "name": "python"
    }
  },
  "cells": [
    {
      "cell_type": "code",
      "source": [
        "pip install category_encoders"
      ],
      "metadata": {
        "colab": {
          "base_uri": "https://localhost:8080/"
        },
        "id": "ZAd_lC9dppCM",
        "outputId": "80c92420-76d0-404b-c943-b88276cf1dca"
      },
      "execution_count": null,
      "outputs": [
        {
          "output_type": "stream",
          "name": "stdout",
          "text": [
            "Collecting category_encoders\n",
            "  Downloading category_encoders-2.6.3-py2.py3-none-any.whl (81 kB)\n",
            "\u001b[2K     \u001b[90m━━━━━━━━━━━━━━━━━━━━━━━━━━━━━━━━━━━━━━━━\u001b[0m \u001b[32m81.9/81.9 kB\u001b[0m \u001b[31m1.0 MB/s\u001b[0m eta \u001b[36m0:00:00\u001b[0m\n",
            "\u001b[?25hRequirement already satisfied: numpy>=1.14.0 in /usr/local/lib/python3.10/dist-packages (from category_encoders) (1.25.2)\n",
            "Requirement already satisfied: scikit-learn>=0.20.0 in /usr/local/lib/python3.10/dist-packages (from category_encoders) (1.2.2)\n",
            "Requirement already satisfied: scipy>=1.0.0 in /usr/local/lib/python3.10/dist-packages (from category_encoders) (1.11.4)\n",
            "Requirement already satisfied: statsmodels>=0.9.0 in /usr/local/lib/python3.10/dist-packages (from category_encoders) (0.14.2)\n",
            "Requirement already satisfied: pandas>=1.0.5 in /usr/local/lib/python3.10/dist-packages (from category_encoders) (2.0.3)\n",
            "Requirement already satisfied: patsy>=0.5.1 in /usr/local/lib/python3.10/dist-packages (from category_encoders) (0.5.6)\n",
            "Requirement already satisfied: python-dateutil>=2.8.2 in /usr/local/lib/python3.10/dist-packages (from pandas>=1.0.5->category_encoders) (2.8.2)\n",
            "Requirement already satisfied: pytz>=2020.1 in /usr/local/lib/python3.10/dist-packages (from pandas>=1.0.5->category_encoders) (2023.4)\n",
            "Requirement already satisfied: tzdata>=2022.1 in /usr/local/lib/python3.10/dist-packages (from pandas>=1.0.5->category_encoders) (2024.1)\n",
            "Requirement already satisfied: six in /usr/local/lib/python3.10/dist-packages (from patsy>=0.5.1->category_encoders) (1.16.0)\n",
            "Requirement already satisfied: joblib>=1.1.1 in /usr/local/lib/python3.10/dist-packages (from scikit-learn>=0.20.0->category_encoders) (1.4.2)\n",
            "Requirement already satisfied: threadpoolctl>=2.0.0 in /usr/local/lib/python3.10/dist-packages (from scikit-learn>=0.20.0->category_encoders) (3.5.0)\n",
            "Requirement already satisfied: packaging>=21.3 in /usr/local/lib/python3.10/dist-packages (from statsmodels>=0.9.0->category_encoders) (24.1)\n",
            "Installing collected packages: category_encoders\n",
            "Successfully installed category_encoders-2.6.3\n"
          ]
        }
      ]
    },
    {
      "cell_type": "code",
      "source": [
        "import pandas as pd\n",
        "df = pd.read_csv('/content/Telco_Customer_Churn_Dataset .csv')"
      ],
      "metadata": {
        "id": "vzwURTB_qBUz"
      },
      "execution_count": null,
      "outputs": []
    },
    {
      "cell_type": "code",
      "source": [
        "print(df.head())"
      ],
      "metadata": {
        "colab": {
          "base_uri": "https://localhost:8080/"
        },
        "id": "xj3i0Cgqiw7D",
        "outputId": "8a38b884-cf4c-41d7-aab7-70562324d44c"
      },
      "execution_count": null,
      "outputs": [
        {
          "output_type": "stream",
          "name": "stdout",
          "text": [
            "   customerID  gender  SeniorCitizen Partner Dependents  tenure PhoneService  \\\n",
            "0  7590-VHVEG  Female              0     Yes         No       1           No   \n",
            "1  5575-GNVDE    Male              0      No         No      34          Yes   \n",
            "2  3668-QPYBK    Male              0      No         No       2          Yes   \n",
            "3  7795-CFOCW    Male              0      No         No      45           No   \n",
            "4  9237-HQITU  Female              0      No         No       2          Yes   \n",
            "\n",
            "      MultipleLines InternetService OnlineSecurity  ... DeviceProtection  \\\n",
            "0  No phone service             DSL             No  ...               No   \n",
            "1                No             DSL            Yes  ...              Yes   \n",
            "2                No             DSL            Yes  ...               No   \n",
            "3  No phone service             DSL            Yes  ...              Yes   \n",
            "4                No     Fiber optic             No  ...               No   \n",
            "\n",
            "  TechSupport StreamingTV StreamingMovies        Contract PaperlessBilling  \\\n",
            "0          No          No              No  Month-to-month              Yes   \n",
            "1          No          No              No        One year               No   \n",
            "2          No          No              No  Month-to-month              Yes   \n",
            "3         Yes          No              No        One year               No   \n",
            "4          No          No              No  Month-to-month              Yes   \n",
            "\n",
            "               PaymentMethod MonthlyCharges  TotalCharges Churn  \n",
            "0           Electronic check          29.85         29.85    No  \n",
            "1               Mailed check          56.95        1889.5    No  \n",
            "2               Mailed check          53.85        108.15   Yes  \n",
            "3  Bank transfer (automatic)          42.30       1840.75    No  \n",
            "4           Electronic check          70.70        151.65   Yes  \n",
            "\n",
            "[5 rows x 21 columns]\n"
          ]
        }
      ]
    },
    {
      "cell_type": "markdown",
      "source": [
        "### ***Binary Encoding***"
      ],
      "metadata": {
        "id": "zVIbqHGYi5e-"
      }
    },
    {
      "cell_type": "code",
      "source": [
        "import category_encoders as ce\n",
        "binary_encoder = ce.BinaryEncoder(cols=['gender', 'Partner', 'Dependents','PhoneService','MultipleLines','InternetService','OnlineSecurity','OnlineBackup','DeviceProtection','TechSupport','StreamingTV','StreamingMovies','Contract','PaperlessBilling','PaymentMethod','Churn'])\n",
        "df_encoded = binary_encoder.fit_transform(df)\n",
        "print(df_encoded.head)"
      ],
      "metadata": {
        "colab": {
          "base_uri": "https://localhost:8080/"
        },
        "id": "aETjy9fsi_eI",
        "outputId": "89f5f969-33f1-4497-d5fd-43386c3fba22"
      },
      "execution_count": null,
      "outputs": [
        {
          "output_type": "stream",
          "name": "stdout",
          "text": [
            "<bound method NDFrame.head of       customerID  gender_0  gender_1  SeniorCitizen  Partner_0  Partner_1  \\\n",
            "0     7590-VHVEG         0         1              0          0          1   \n",
            "1     5575-GNVDE         1         0              0          1          0   \n",
            "2     3668-QPYBK         1         0              0          1          0   \n",
            "3     7795-CFOCW         1         0              0          1          0   \n",
            "4     9237-HQITU         0         1              0          1          0   \n",
            "...          ...       ...       ...            ...        ...        ...   \n",
            "7038  6840-RESVB         1         0              0          0          1   \n",
            "7039  2234-XADUH         0         1              0          0          1   \n",
            "7040  4801-JZAZL         0         1              0          0          1   \n",
            "7041  8361-LTMKD         1         0              1          0          1   \n",
            "7042  3186-AJIEK         1         0              0          1          0   \n",
            "\n",
            "      Dependents_0  Dependents_1  tenure  PhoneService_0  ...  Contract_1  \\\n",
            "0                0             1       1               0  ...           1   \n",
            "1                0             1      34               1  ...           0   \n",
            "2                0             1       2               1  ...           1   \n",
            "3                0             1      45               0  ...           0   \n",
            "4                0             1       2               1  ...           1   \n",
            "...            ...           ...     ...             ...  ...         ...   \n",
            "7038             1             0      24               1  ...           0   \n",
            "7039             1             0      72               1  ...           0   \n",
            "7040             1             0      11               0  ...           1   \n",
            "7041             0             1       4               1  ...           1   \n",
            "7042             0             1      66               1  ...           1   \n",
            "\n",
            "      PaperlessBilling_0  PaperlessBilling_1  PaymentMethod_0  \\\n",
            "0                      0                   1                0   \n",
            "1                      1                   0                0   \n",
            "2                      0                   1                0   \n",
            "3                      1                   0                0   \n",
            "4                      0                   1                0   \n",
            "...                  ...                 ...              ...   \n",
            "7038                   0                   1                0   \n",
            "7039                   0                   1                1   \n",
            "7040                   0                   1                0   \n",
            "7041                   0                   1                0   \n",
            "7042                   0                   1                0   \n",
            "\n",
            "      PaymentMethod_1  PaymentMethod_2  MonthlyCharges  TotalCharges  Churn_0  \\\n",
            "0                   0                1           29.85         29.85        0   \n",
            "1                   1                0           56.95        1889.5        0   \n",
            "2                   1                0           53.85        108.15        1   \n",
            "3                   1                1           42.30       1840.75        0   \n",
            "4                   0                1           70.70        151.65        1   \n",
            "...               ...              ...             ...           ...      ...   \n",
            "7038                1                0           84.80        1990.5        0   \n",
            "7039                0                0          103.20        7362.9        0   \n",
            "7040                0                1           29.60        346.45        0   \n",
            "7041                1                0           74.40         306.6        1   \n",
            "7042                1                1          105.65        6844.5        0   \n",
            "\n",
            "      Churn_1  \n",
            "0           1  \n",
            "1           1  \n",
            "2           0  \n",
            "3           1  \n",
            "4           0  \n",
            "...       ...  \n",
            "7038        1  \n",
            "7039        1  \n",
            "7040        1  \n",
            "7041        0  \n",
            "7042        1  \n",
            "\n",
            "[7043 rows x 38 columns]>\n"
          ]
        }
      ]
    },
    {
      "cell_type": "code",
      "source": [
        "print(df_encoded.info())"
      ],
      "metadata": {
        "colab": {
          "base_uri": "https://localhost:8080/"
        },
        "id": "XWkwV-iWO9lo",
        "outputId": "fa6e37af-0bc5-417d-d093-e8afdd7c5b6c"
      },
      "execution_count": null,
      "outputs": [
        {
          "output_type": "stream",
          "name": "stdout",
          "text": [
            "<class 'pandas.core.frame.DataFrame'>\n",
            "RangeIndex: 7043 entries, 0 to 7042\n",
            "Data columns (total 38 columns):\n",
            " #   Column              Non-Null Count  Dtype  \n",
            "---  ------              --------------  -----  \n",
            " 0   customerID          7043 non-null   object \n",
            " 1   gender_0            7043 non-null   int64  \n",
            " 2   gender_1            7043 non-null   int64  \n",
            " 3   SeniorCitizen       7043 non-null   int64  \n",
            " 4   Partner_0           7043 non-null   int64  \n",
            " 5   Partner_1           7043 non-null   int64  \n",
            " 6   Dependents_0        7043 non-null   int64  \n",
            " 7   Dependents_1        7043 non-null   int64  \n",
            " 8   tenure              7043 non-null   int64  \n",
            " 9   PhoneService_0      7043 non-null   int64  \n",
            " 10  PhoneService_1      7043 non-null   int64  \n",
            " 11  MultipleLines_0     7043 non-null   int64  \n",
            " 12  MultipleLines_1     7043 non-null   int64  \n",
            " 13  InternetService_0   7043 non-null   int64  \n",
            " 14  InternetService_1   7043 non-null   int64  \n",
            " 15  OnlineSecurity_0    7043 non-null   int64  \n",
            " 16  OnlineSecurity_1    7043 non-null   int64  \n",
            " 17  OnlineBackup_0      7043 non-null   int64  \n",
            " 18  OnlineBackup_1      7043 non-null   int64  \n",
            " 19  DeviceProtection_0  7043 non-null   int64  \n",
            " 20  DeviceProtection_1  7043 non-null   int64  \n",
            " 21  TechSupport_0       7043 non-null   int64  \n",
            " 22  TechSupport_1       7043 non-null   int64  \n",
            " 23  StreamingTV_0       7043 non-null   int64  \n",
            " 24  StreamingTV_1       7043 non-null   int64  \n",
            " 25  StreamingMovies_0   7043 non-null   int64  \n",
            " 26  StreamingMovies_1   7043 non-null   int64  \n",
            " 27  Contract_0          7043 non-null   int64  \n",
            " 28  Contract_1          7043 non-null   int64  \n",
            " 29  PaperlessBilling_0  7043 non-null   int64  \n",
            " 30  PaperlessBilling_1  7043 non-null   int64  \n",
            " 31  PaymentMethod_0     7043 non-null   int64  \n",
            " 32  PaymentMethod_1     7043 non-null   int64  \n",
            " 33  PaymentMethod_2     7043 non-null   int64  \n",
            " 34  MonthlyCharges      7043 non-null   float64\n",
            " 35  TotalCharges        7043 non-null   object \n",
            " 36  Churn_0             7043 non-null   int64  \n",
            " 37  Churn_1             7043 non-null   int64  \n",
            "dtypes: float64(1), int64(35), object(2)\n",
            "memory usage: 2.0+ MB\n",
            "None\n"
          ]
        }
      ]
    },
    {
      "cell_type": "markdown",
      "source": [
        "###***Calculating the churn rate***"
      ],
      "metadata": {
        "id": "oT21R3wdCnGL"
      }
    },
    {
      "cell_type": "code",
      "source": [
        "count_churn = df['Churn'].value_counts()\n",
        "churn_rate = (count_churn['Yes'] / (count_churn['Yes'] + count_churn['No'])) * 100.00\n",
        "print(churn_rate)"
      ],
      "metadata": {
        "colab": {
          "base_uri": "https://localhost:8080/"
        },
        "id": "6m4OqeXxCmVA",
        "outputId": "5ea15e3d-835d-4a21-a5ef-7a4d89d7a613"
      },
      "execution_count": null,
      "outputs": [
        {
          "output_type": "stream",
          "name": "stdout",
          "text": [
            "26.536987079369588\n"
          ]
        }
      ]
    },
    {
      "cell_type": "code",
      "source": [
        "import matplotlib.pyplot as plt\n",
        "plt.figure(figsize=(8,6))\n",
        "count_churn.plot(kind='bar',color=['Red','Green'])\n",
        "plt.xlabel('Churn')\n",
        "plt.ylabel('Count')\n",
        "plt.title('Churn Rate')\n",
        "plt.show()"
      ],
      "metadata": {
        "colab": {
          "base_uri": "https://localhost:8080/",
          "height": 513
        },
        "id": "bp7X0C-MDVoZ",
        "outputId": "7ff60996-b109-4dbb-e795-d9fba8b1a2c2"
      },
      "execution_count": null,
      "outputs": [
        {
          "output_type": "display_data",
          "data": {
            "text/plain": [
              "<Figure size 800x600 with 1 Axes>"
            ],
            "image/png": "[encoded data removed]"
          },
          "metadata": {}
        }
      ]
    },
    {
      "cell_type": "markdown",
      "source": [
        "##**Analysing the demographics**"
      ],
      "metadata": {
        "id": "z-1uhmtHaHDc"
      }
    },
    {
      "cell_type": "code",
      "source": [
        "df_encoded.describe()"
      ],
      "metadata": {
        "id": "_U_nOVzUaQIq",
        "colab": {
          "base_uri": "https://localhost:8080/",
          "height": 349
        },
        "outputId": "220cd3f1-0424-4403-d6c2-66f519c60111"
      },
      "execution_count": null,
      "outputs": [
        {
          "output_type": "execute_result",
          "data": {
            "text/plain": [
              "          gender_0     gender_1  SeniorCitizen    Partner_0    Partner_1  \\\n",
              "count  7043.000000  7043.000000    7043.000000  7043.000000  7043.000000   \n",
              "mean      0.504756     0.495244       0.162147     0.516967     0.483033   \n",
              "std       0.500013     0.500013       0.368612     0.499748     0.499748   \n",
              "min       0.000000     0.000000       0.000000     0.000000     0.000000   \n",
              "25%       0.000000     0.000000       0.000000     0.000000     0.000000   \n",
              "50%       1.000000     0.000000       0.000000     1.000000     0.000000   \n",
              "75%       1.000000     1.000000       0.000000     1.000000     1.000000   \n",
              "max       1.000000     1.000000       1.000000     1.000000     1.000000   \n",
              "\n",
              "       Dependents_0  Dependents_1       tenure  PhoneService_0  \\\n",
              "count   7043.000000   7043.000000  7043.000000     7043.000000   \n",
              "mean       0.299588      0.700412    32.371149        0.903166   \n",
              "std        0.458110      0.458110    24.559481        0.295752   \n",
              "min        0.000000      0.000000     0.000000        0.000000   \n",
              "25%        0.000000      0.000000     9.000000        1.000000   \n",
              "50%        0.000000      1.000000    29.000000        1.000000   \n",
              "75%        1.000000      1.000000    55.000000        1.000000   \n",
              "max        1.000000      1.000000    72.000000        1.000000   \n",
              "\n",
              "       PhoneService_1  ...   Contract_0   Contract_1  PaperlessBilling_0  \\\n",
              "count     7043.000000  ...  7043.000000  7043.000000         7043.000000   \n",
              "mean         0.096834  ...     0.449808     0.790856            0.407781   \n",
              "std          0.295752  ...     0.497510     0.406726            0.491457   \n",
              "min          0.000000  ...     0.000000     0.000000            0.000000   \n",
              "25%          0.000000  ...     0.000000     1.000000            0.000000   \n",
              "50%          0.000000  ...     0.000000     1.000000            0.000000   \n",
              "75%          0.000000  ...     1.000000     1.000000            1.000000   \n",
              "max          1.000000  ...     1.000000     1.000000            1.000000   \n",
              "\n",
              "       PaperlessBilling_1  PaymentMethod_0  PaymentMethod_1  PaymentMethod_2  \\\n",
              "count         7043.000000      7043.000000      7043.000000      7043.000000   \n",
              "mean             0.592219         0.216101         0.448105         0.555019   \n",
              "std              0.491457         0.411613         0.497335         0.496999   \n",
              "min              0.000000         0.000000         0.000000         0.000000   \n",
              "25%              0.000000         0.000000         0.000000         0.000000   \n",
              "50%              1.000000         0.000000         0.000000         1.000000   \n",
              "75%              1.000000         0.000000         1.000000         1.000000   \n",
              "max              1.000000         1.000000         1.000000         1.000000   \n",
              "\n",
              "       MonthlyCharges      Churn_0      Churn_1  \n",
              "count     7043.000000  7043.000000  7043.000000  \n",
              "mean        64.761692     0.265370     0.734630  \n",
              "std         30.090047     0.441561     0.441561  \n",
              "min         18.250000     0.000000     0.000000  \n",
              "25%         35.500000     0.000000     0.000000  \n",
              "50%         70.350000     0.000000     1.000000  \n",
              "75%         89.850000     1.000000     1.000000  \n",
              "max        118.750000     1.000000     1.000000  \n",
              "\n",
              "[8 rows x 36 columns]"
            ],
            "text/html": [
              "\n",
              "  <div id=\"df-32350a20-b93e-4ed2-9268-f255401a30aa\" class=\"colab-df-container\">\n",
              "    <div>\n",
              "<style scoped>\n",
              "    .dataframe tbody tr th:only-of-type {\n",
              "        vertical-align: middle;\n",
              "    }\n",
              "\n",
              "    .dataframe tbody tr th {\n",
              "        vertical-align: top;\n",
              "    }\n",
              "\n",
              "    .dataframe thead th {\n",
              "        text-align: right;\n",
              "    }\n",
              "</style>\n",
              "<table border=\"1\" class=\"dataframe\">\n",
              "  <thead>\n",
              "    <tr style=\"text-align: right;\">\n",
              "      <th></th>\n",
              "      <th>gender_0</th>\n",
              "      <th>gender_1</th>\n",
              "      <th>SeniorCitizen</th>\n",
              "      <th>Partner_0</th>\n",
              "      <th>Partner_1</th>\n",
              "      <th>Dependents_0</th>\n",
              "      <th>Dependents_1</th>\n",
              "      <th>tenure</th>\n",
              "      <th>PhoneService_0</th>\n",
              "      <th>PhoneService_1</th>\n",
              "      <th>...</th>\n",
              "      <th>Contract_0</th>\n",
              "      <th>Contract_1</th>\n",
              "      <th>PaperlessBilling_0</th>\n",
              "      <th>PaperlessBilling_1</th>\n",
              "      <th>PaymentMethod_0</th>\n",
              "      <th>PaymentMethod_1</th>\n",
              "      <th>PaymentMethod_2</th>\n",
              "      <th>MonthlyCharges</th>\n",
              "      <th>Churn_0</th>\n",
              "      <th>Churn_1</th>\n",
              "    </tr>\n",
              "  </thead>\n",
              "  <tbody>\n",
              "    <tr>\n",
              "      <th>count</th>\n",
              "      <td>7043.000000</td>\n",
              "      <td>7043.000000</td>\n",
              "      <td>7043.000000</td>\n",
              "      <td>7043.000000</td>\n",
              "      <td>7043.000000</td>\n",
              "      <td>7043.000000</td>\n",
              "      <td>7043.000000</td>\n",
              "      <td>7043.000000</td>\n",
              "      <td>7043.000000</td>\n",
              "      <td>7043.000000</td>\n",
              "      <td>...</td>\n",
              "      <td>7043.000000</td>\n",
              "      <td>7043.000000</td>\n",
              "      <td>7043.000000</td>\n",
              "      <td>7043.000000</td>\n",
              "      <td>7043.000000</td>\n",
              "      <td>7043.000000</td>\n",
              "      <td>7043.000000</td>\n",
              "      <td>7043.000000</td>\n",
              "      <td>7043.000000</td>\n",
              "      <td>7043.000000</td>\n",
              "    </tr>\n",
              "    <tr>\n",
              "      <th>mean</th>\n",
              "      <td>0.504756</td>\n",
              "      <td>0.495244</td>\n",
              "      <td>0.162147</td>\n",
              "      <td>0.516967</td>\n",
              "      <td>0.483033</td>\n",
              "      <td>0.299588</td>\n",
              "      <td>0.700412</td>\n",
              "      <td>32.371149</td>\n",
              "      <td>0.903166</td>\n",
              "      <td>0.096834</td>\n",
              "      <td>...</td>\n",
              "      <td>0.449808</td>\n",
              "      <td>0.790856</td>\n",
              "      <td>0.407781</td>\n",
              "      <td>0.592219</td>\n",
              "      <td>0.216101</td>\n",
              "      <td>0.448105</td>\n",
              "      <td>0.555019</td>\n",
              "      <td>64.761692</td>\n",
              "      <td>0.265370</td>\n",
              "      <td>0.734630</td>\n",
              "    </tr>\n",
              "    <tr>\n",
              "      <th>std</th>\n",
              "      <td>0.500013</td>\n",
              "      <td>0.500013</td>\n",
              "      <td>0.368612</td>\n",
              "      <td>0.499748</td>\n",
              "      <td>0.499748</td>\n",
              "      <td>0.458110</td>\n",
              "      <td>0.458110</td>\n",
              "      <td>24.559481</td>\n",
              "      <td>0.295752</td>\n",
              "      <td>0.295752</td>\n",
              "      <td>...</td>\n",
              "      <td>0.497510</td>\n",
              "      <td>0.406726</td>\n",
              "      <td>0.491457</td>\n",
              "      <td>0.491457</td>\n",
              "      <td>0.411613</td>\n",
              "      <td>0.497335</td>\n",
              "      <td>0.496999</td>\n",
              "      <td>30.090047</td>\n",
              "      <td>0.441561</td>\n",
              "      <td>0.441561</td>\n",
              "    </tr>\n",
              "    <tr>\n",
              "      <th>min</th>\n",
              "      <td>0.000000</td>\n",
              "      <td>0.000000</td>\n",
              "      <td>0.000000</td>\n",
              "      <td>0.000000</td>\n",
              "      <td>0.000000</td>\n",
              "      <td>0.000000</td>\n",
              "      <td>0.000000</td>\n",
              "      <td>0.000000</td>\n",
              "      <td>0.000000</td>\n",
              "      <td>0.000000</td>\n",
              "      <td>...</td>\n",
              "      <td>0.000000</td>\n",
              "      <td>0.000000</td>\n",
              "      <td>0.000000</td>\n",
              "      <td>0.000000</td>\n",
              "      <td>0.000000</td>\n",
              "      <td>0.000000</td>\n",
              "      <td>0.000000</td>\n",
              "      <td>18.250000</td>\n",
              "      <td>0.000000</td>\n",
              "      <td>0.000000</td>\n",
              "    </tr>\n",
              "    <tr>\n",
              "      <th>25%</th>\n",
              "      <td>0.000000</td>\n",
              "      <td>0.000000</td>\n",
              "      <td>0.000000</td>\n",
              "      <td>0.000000</td>\n",
              "      <td>0.000000</td>\n",
              "      <td>0.000000</td>\n",
              "      <td>0.000000</td>\n",
              "      <td>9.000000</td>\n",
              "      <td>1.000000</td>\n",
              "      <td>0.000000</td>\n",
              "      <td>...</td>\n",
              "      <td>0.000000</td>\n",
              "      <td>1.000000</td>\n",
              "      <td>0.000000</td>\n",
              "      <td>0.000000</td>\n",
              "      <td>0.000000</td>\n",
              "      <td>0.000000</td>\n",
              "      <td>0.000000</td>\n",
              "      <td>35.500000</td>\n",
              "      <td>0.000000</td>\n",
              "      <td>0.000000</td>\n",
              "    </tr>\n",
              "    <tr>\n",
              "      <th>50%</th>\n",
              "      <td>1.000000</td>\n",
              "      <td>0.000000</td>\n",
              "      <td>0.000000</td>\n",
              "      <td>1.000000</td>\n",
              "      <td>0.000000</td>\n",
              "      <td>0.000000</td>\n",
              "      <td>1.000000</td>\n",
              "      <td>29.000000</td>\n",
              "      <td>1.000000</td>\n",
              "      <td>0.000000</td>\n",
              "      <td>...</td>\n",
              "      <td>0.000000</td>\n",
              "      <td>1.000000</td>\n",
              "      <td>0.000000</td>\n",
              "      <td>1.000000</td>\n",
              "      <td>0.000000</td>\n",
              "      <td>0.000000</td>\n",
              "      <td>1.000000</td>\n",
              "      <td>70.350000</td>\n",
              "      <td>0.000000</td>\n",
              "      <td>1.000000</td>\n",
              "    </tr>\n",
              "    <tr>\n",
              "      <th>75%</th>\n",
              "      <td>1.000000</td>\n",
              "      <td>1.000000</td>\n",
              "      <td>0.000000</td>\n",
              "      <td>1.000000</td>\n",
              "      <td>1.000000</td>\n",
              "      <td>1.000000</td>\n",
              "      <td>1.000000</td>\n",
              "      <td>55.000000</td>\n",
              "      <td>1.000000</td>\n",
              "      <td>0.000000</td>\n",
              "      <td>...</td>\n",
              "      <td>1.000000</td>\n",
              "      <td>1.000000</td>\n",
              "      <td>1.000000</td>\n",
              "      <td>1.000000</td>\n",
              "      <td>0.000000</td>\n",
              "      <td>1.000000</td>\n",
              "      <td>1.000000</td>\n",
              "      <td>89.850000</td>\n",
              "      <td>1.000000</td>\n",
              "      <td>1.000000</td>\n",
              "    </tr>\n",
              "    <tr>\n",
              "      <th>max</th>\n",
              "      <td>1.000000</td>\n",
              "      <td>1.000000</td>\n",
              "      <td>1.000000</td>\n",
              "      <td>1.000000</td>\n",
              "      <td>1.000000</td>\n",
              "      <td>1.000000</td>\n",
              "      <td>1.000000</td>\n",
              "      <td>72.000000</td>\n",
              "      <td>1.000000</td>\n",
              "      <td>1.000000</td>\n",
              "      <td>...</td>\n",
              "      <td>1.000000</td>\n",
              "      <td>1.000000</td>\n",
              "      <td>1.000000</td>\n",
              "      <td>1.000000</td>\n",
              "      <td>1.000000</td>\n",
              "      <td>1.000000</td>\n",
              "      <td>1.000000</td>\n",
              "      <td>118.750000</td>\n",
              "      <td>1.000000</td>\n",
              "      <td>1.000000</td>\n",
              "    </tr>\n",
              "  </tbody>\n",
              "</table>\n",
              "<p>8 rows × 36 columns</p>\n",
              "</div>\n",
              "    <div class=\"colab-df-buttons\">\n",
              "\n",
              "  <div class=\"colab-df-container\">\n",
              "    <button class=\"colab-df-convert\" onclick=\"convertToInteractive('df-32350a20-b93e-4ed2-9268-f255401a30aa')\"\n",
              "            title=\"Convert this dataframe to an interactive table.\"\n",
              "            style=\"display:none;\">\n",
              "\n",
              "  <svg xmlns=\"http://www.w3.org/2000/svg\" height=\"24px\" viewBox=\"0 -960 960 960\">\n",
              "    <path d=\"M120-120v-720h720v720H120Zm60-500h600v-160H180v160Zm220 220h160v-160H400v160Zm0 220h160v-160H400v160ZM180-400h160v-160H180v160Zm440 0h160v-160H620v160ZM180-180h160v-160H180v160Zm440 0h160v-160H620v160Z\"/>\n",
              "  </svg>\n",
              "    </button>\n",
              "\n",
              "  <style>\n",
              "    .colab-df-container {\n",
              "      display:flex;\n",
              "      gap: 12px;\n",
              "    }\n",
              "\n",
              "    .colab-df-convert {\n",
              "      background-color: #E8F0FE;\n",
              "      border: none;\n",
              "      border-radius: 50%;\n",
              "      cursor: pointer;\n",
              "      display: none;\n",
              "      fill: #1967D2;\n",
              "      height: 32px;\n",
              "      padding: 0 0 0 0;\n",
              "      width: 32px;\n",
              "    }\n",
              "\n",
              "    .colab-df-convert:hover {\n",
              "      background-color: #E2EBFA;\n",
              "      box-shadow: 0px 1px 2px rgba(60, 64, 67, 0.3), 0px 1px 3px 1px rgba(60, 64, 67, 0.15);\n",
              "      fill: #174EA6;\n",
              "    }\n",
              "\n",
              "    .colab-df-buttons div {\n",
              "      margin-bottom: 4px;\n",
              "    }\n",
              "\n",
              "    [theme=dark] .colab-df-convert {\n",
              "      background-color: #3B4455;\n",
              "      fill: #D2E3FC;\n",
              "    }\n",
              "\n",
              "    [theme=dark] .colab-df-convert:hover {\n",
              "      background-color: #434B5C;\n",
              "      box-shadow: 0px 1px 3px 1px rgba(0, 0, 0, 0.15);\n",
              "      filter: drop-shadow(0px 1px 2px rgba(0, 0, 0, 0.3));\n",
              "      fill: #FFFFFF;\n",
              "    }\n",
              "  </style>\n",
              "\n",
              "    <script>\n",
              "      const buttonEl =\n",
              "        document.querySelector('#df-32350a20-b93e-4ed2-9268-f255401a30aa button.colab-df-convert');\n",
              "      buttonEl.style.display =\n",
              "        google.colab.kernel.accessAllowed ? 'block' : 'none';\n",
              "\n",
              "      async function convertToInteractive(key) {\n",
              "        const element = document.querySelector('#df-32350a20-b93e-4ed2-9268-f255401a30aa');\n",
              "        const dataTable =\n",
              "          await google.colab.kernel.invokeFunction('convertToInteractive',\n",
              "                                                    [key], {});\n",
              "        if (!dataTable) return;\n",
              "\n",
              "        const docLinkHtml = 'Like what you see? Visit the ' +\n",
              "          '<a target=\"_blank\" href=https://colab.research.google.com/notebooks/data_table.ipynb>data table notebook</a>'\n",
              "          + ' to learn more about interactive tables.';\n",
              "        element.innerHTML = '';\n",
              "        dataTable['output_type'] = 'display_data';\n",
              "        await google.colab.output.renderOutput(dataTable, element);\n",
              "        const docLink = document.createElement('div');\n",
              "        docLink.innerHTML = docLinkHtml;\n",
              "        element.appendChild(docLink);\n",
              "      }\n",
              "    </script>\n",
              "  </div>\n",
              "\n",
              "\n",
              "<div id=\"df-5d4c28f1-f55e-46bb-9e9a-3ae313ad0afd\">\n",
              "  <button class=\"colab-df-quickchart\" onclick=\"quickchart('df-5d4c28f1-f55e-46bb-9e9a-3ae313ad0afd')\"\n",
              "            title=\"Suggest charts\"\n",
              "            style=\"display:none;\">\n",
              "\n",
              "<svg xmlns=\"http://www.w3.org/2000/svg\" height=\"24px\"viewBox=\"0 0 24 24\"\n",
              "     width=\"24px\">\n",
              "    <g>\n",
              "        <path d=\"M19 3H5c-1.1 0-2 .9-2 2v14c0 1.1.9 2 2 2h14c1.1 0 2-.9 2-2V5c0-1.1-.9-2-2-2zM9 17H7v-7h2v7zm4 0h-2V7h2v10zm4 0h-2v-4h2v4z\"/>\n",
              "    </g>\n",
              "</svg>\n",
              "  </button>\n",
              "\n",
              "<style>\n",
              "  .colab-df-quickchart {\n",
              "      --bg-color: #E8F0FE;\n",
              "      --fill-color: #1967D2;\n",
              "      --hover-bg-color: #E2EBFA;\n",
              "      --hover-fill-color: #174EA6;\n",
              "      --disabled-fill-color: #AAA;\n",
              "      --disabled-bg-color: #DDD;\n",
              "  }\n",
              "\n",
              "  [theme=dark] .colab-df-quickchart {\n",
              "      --bg-color: #3B4455;\n",
              "      --fill-color: #D2E3FC;\n",
              "      --hover-bg-color: #434B5C;\n",
              "      --hover-fill-color: #FFFFFF;\n",
              "      --disabled-bg-color: #3B4455;\n",
              "      --disabled-fill-color: #666;\n",
              "  }\n",
              "\n",
              "  .colab-df-quickchart {\n",
              "    background-color: var(--bg-color);\n",
              "    border: none;\n",
              "    border-radius: 50%;\n",
              "    cursor: pointer;\n",
              "    display: none;\n",
              "    fill: var(--fill-color);\n",
              "    height: 32px;\n",
              "    padding: 0;\n",
              "    width: 32px;\n",
              "  }\n",
              "\n",
              "  .colab-df-quickchart:hover {\n",
              "    background-color: var(--hover-bg-color);\n",
              "    box-shadow: 0 1px 2px rgba(60, 64, 67, 0.3), 0 1px 3px 1px rgba(60, 64, 67, 0.15);\n",
              "    fill: var(--button-hover-fill-color);\n",
              "  }\n",
              "\n",
              "  .colab-df-quickchart-complete:disabled,\n",
              "  .colab-df-quickchart-complete:disabled:hover {\n",
              "    background-color: var(--disabled-bg-color);\n",
              "    fill: var(--disabled-fill-color);\n",
              "    box-shadow: none;\n",
              "  }\n",
              "\n",
              "  .colab-df-spinner {\n",
              "    border: 2px solid var(--fill-color);\n",
              "    border-color: transparent;\n",
              "    border-bottom-color: var(--fill-color);\n",
              "    animation:\n",
              "      spin 1s steps(1) infinite;\n",
              "  }\n",
              "\n",
              "  @keyframes spin {\n",
              "    0% {\n",
              "      border-color: transparent;\n",
              "      border-bottom-color: var(--fill-color);\n",
              "      border-left-color: var(--fill-color);\n",
              "    }\n",
              "    20% {\n",
              "      border-color: transparent;\n",
              "      border-left-color: var(--fill-color);\n",
              "      border-top-color: var(--fill-color);\n",
              "    }\n",
              "    30% {\n",
              "      border-color: transparent;\n",
              "      border-left-color: var(--fill-color);\n",
              "      border-top-color: var(--fill-color);\n",
              "      border-right-color: var(--fill-color);\n",
              "    }\n",
              "    40% {\n",
              "      border-color: transparent;\n",
              "      border-right-color: var(--fill-color);\n",
              "      border-top-color: var(--fill-color);\n",
              "    }\n",
              "    60% {\n",
              "      border-color: transparent;\n",
              "      border-right-color: var(--fill-color);\n",
              "    }\n",
              "    80% {\n",
              "      border-color: transparent;\n",
              "      border-right-color: var(--fill-color);\n",
              "      border-bottom-color: var(--fill-color);\n",
              "    }\n",
              "    90% {\n",
              "      border-color: transparent;\n",
              "      border-bottom-color: var(--fill-color);\n",
              "    }\n",
              "  }\n",
              "</style>\n",
              "\n",
              "  <script>\n",
              "    async function quickchart(key) {\n",
              "      const quickchartButtonEl =\n",
              "        document.querySelector('#' + key + ' button');\n",
              "      quickchartButtonEl.disabled = true;  // To prevent multiple clicks.\n",
              "      quickchartButtonEl.classList.add('colab-df-spinner');\n",
              "      try {\n",
              "        const charts = await google.colab.kernel.invokeFunction(\n",
              "            'suggestCharts', [key], {});\n",
              "      } catch (error) {\n",
              "        console.error('Error during call to suggestCharts:', error);\n",
              "      }\n",
              "      quickchartButtonEl.classList.remove('colab-df-spinner');\n",
              "      quickchartButtonEl.classList.add('colab-df-quickchart-complete');\n",
              "    }\n",
              "    (() => {\n",
              "      let quickchartButtonEl =\n",
              "        document.querySelector('#df-5d4c28f1-f55e-46bb-9e9a-3ae313ad0afd button');\n",
              "      quickchartButtonEl.style.display =\n",
              "        google.colab.kernel.accessAllowed ? 'block' : 'none';\n",
              "    })();\n",
              "  </script>\n",
              "</div>\n",
              "\n",
              "    </div>\n",
              "  </div>\n"
            ],
            "application/vnd.google.colaboratory.intrinsic+json": {
              "type": "dataframe"
            }
          },
          "metadata": {},
          "execution_count": 8
        }
      ]
    },
    {
      "cell_type": "code",
      "source": [
        "pip install seaborn"
      ],
      "metadata": {
        "colab": {
          "base_uri": "https://localhost:8080/"
        },
        "id": "ojs0sKOHkhKn",
        "outputId": "ae28509e-facd-4a9c-c4ee-d0294d081442"
      },
      "execution_count": null,
      "outputs": [
        {
          "output_type": "stream",
          "name": "stdout",
          "text": [
            "Requirement already satisfied: seaborn in /usr/local/lib/python3.10/dist-packages (0.13.1)\n",
            "Requirement already satisfied: numpy!=1.24.0,>=1.20 in /usr/local/lib/python3.10/dist-packages (from seaborn) (1.25.2)\n",
            "Requirement already satisfied: pandas>=1.2 in /usr/local/lib/python3.10/dist-packages (from seaborn) (2.0.3)\n",
            "Requirement already satisfied: matplotlib!=3.6.1,>=3.4 in /usr/local/lib/python3.10/dist-packages (from seaborn) (3.7.1)\n",
            "Requirement already satisfied: contourpy>=1.0.1 in /usr/local/lib/python3.10/dist-packages (from matplotlib!=3.6.1,>=3.4->seaborn) (1.2.1)\n",
            "Requirement already satisfied: cycler>=0.10 in /usr/local/lib/python3.10/dist-packages (from matplotlib!=3.6.1,>=3.4->seaborn) (0.12.1)\n",
            "Requirement already satisfied: fonttools>=4.22.0 in /usr/local/lib/python3.10/dist-packages (from matplotlib!=3.6.1,>=3.4->seaborn) (4.53.1)\n",
            "Requirement already satisfied: kiwisolver>=1.0.1 in /usr/local/lib/python3.10/dist-packages (from matplotlib!=3.6.1,>=3.4->seaborn) (1.4.5)\n",
            "Requirement already satisfied: packaging>=20.0 in /usr/local/lib/python3.10/dist-packages (from matplotlib!=3.6.1,>=3.4->seaborn) (24.1)\n",
            "Requirement already satisfied: pillow>=6.2.0 in /usr/local/lib/python3.10/dist-packages (from matplotlib!=3.6.1,>=3.4->seaborn) (9.4.0)\n",
            "Requirement already satisfied: pyparsing>=2.3.1 in /usr/local/lib/python3.10/dist-packages (from matplotlib!=3.6.1,>=3.4->seaborn) (3.1.2)\n",
            "Requirement already satisfied: python-dateutil>=2.7 in /usr/local/lib/python3.10/dist-packages (from matplotlib!=3.6.1,>=3.4->seaborn) (2.8.2)\n",
            "Requirement already satisfied: pytz>=2020.1 in /usr/local/lib/python3.10/dist-packages (from pandas>=1.2->seaborn) (2023.4)\n",
            "Requirement already satisfied: tzdata>=2022.1 in /usr/local/lib/python3.10/dist-packages (from pandas>=1.2->seaborn) (2024.1)\n",
            "Requirement already satisfied: six>=1.5 in /usr/local/lib/python3.10/dist-packages (from python-dateutil>=2.7->matplotlib!=3.6.1,>=3.4->seaborn) (1.16.0)\n"
          ]
        }
      ]
    },
    {
      "cell_type": "code",
      "source": [
        "import seaborn as sns\n",
        "from scipy.stats import chi2_contingency\n",
        "import statsmodels.api as sm"
      ],
      "metadata": {
        "id": "dT3jDJIkkmnT"
      },
      "execution_count": null,
      "outputs": []
    },
    {
      "cell_type": "code",
      "source": [
        "demographic_features  = ['gender','SeniorCitizen','Partner','Dependents']\n",
        "# Perform Chi-Square test for each demographic feature\n",
        "for feature in demographic_features:\n",
        "    contingency_table = pd.crosstab(df[feature], df['Churn'])\n",
        "    chi2, p, dof, expected = chi2_contingency(contingency_table)\n",
        "    print(f'Chi-Square Test for {feature} vs Churn: p-value = {p}')\n"
      ],
      "metadata": {
        "colab": {
          "base_uri": "https://localhost:8080/"
        },
        "id": "lv0vRlW2lD-k",
        "outputId": "4f29026c-23b1-4c76-c05b-264282ab94a5"
      },
      "execution_count": null,
      "outputs": [
        {
          "output_type": "stream",
          "name": "stdout",
          "text": [
            "Chi-Square Test for gender vs Churn: p-value = 0.48657873605618596\n",
            "Chi-Square Test for SeniorCitizen vs Churn: p-value = 1.510066805092378e-36\n",
            "Chi-Square Test for Partner vs Churn: p-value = 2.1399113440759935e-36\n",
            "Chi-Square Test for Dependents vs Churn: p-value = 4.9249216612154196e-43\n"
          ]
        }
      ]
    },
    {
      "cell_type": "markdown",
      "source": [
        "###***PointPlot***"
      ],
      "metadata": {
        "id": "a-4NJrwrnnL-"
      }
    },
    {
      "cell_type": "code",
      "source": [
        "# Create a long-form DataFrame for easier plotting\n",
        "df_long = df.melt(id_vars='Churn', value_vars=demographic_features,\n",
        "                  var_name='Feature', value_name='Category')\n",
        "\n",
        "# Create a point plot to show the mean churn rate for each category\n",
        "plt.figure(figsize=(14, 6))\n",
        "sns.pointplot(data=df_long, x='Category', y='Churn', hue='Feature', dodge=True, join=False)\n",
        "plt.title('Churn Rate by Demographic Features')\n",
        "plt.xlabel('Category')\n",
        "plt.ylabel('Mean Churn Rate')\n",
        "plt.legend(title='Feature')\n",
        "plt.show()"
      ],
      "metadata": {
        "colab": {
          "base_uri": "https://localhost:8080/",
          "height": 430
        },
        "id": "FU6KfWQVlLfm",
        "outputId": "69f1bb2d-ec0f-4735-b10f-04dd913b7029"
      },
      "execution_count": null,
      "outputs": [
        {
          "output_type": "stream",
          "name": "stderr",
          "text": [
            "<ipython-input-12-202b6a3e337d>:7: UserWarning: \n",
            "\n",
            "The `join` parameter is deprecated and will be removed in v0.15.0. You can remove the line between points with `linestyle='none'`.\n",
            "\n",
            "  sns.pointplot(data=df_long, x='Category', y='Churn', hue='Feature', dodge=True, join=False)\n"
          ]
        },
        {
          "output_type": "display_data",
          "data": {
            "text/plain": [
              "<Figure size 1400x600 with 1 Axes>"
            ],
            "image/png": "[encoded data removed]"
          },
          "metadata": {}
        }
      ]
    },
    {
      "cell_type": "markdown",
      "source": [
        "###***Tenure Distribution***\n"
      ],
      "metadata": {
        "id": "D4AgPCOpn_TR"
      }
    },
    {
      "cell_type": "code",
      "source": [
        "#Density plot for tenure to find where the customers lie on tenure\n",
        "plt.figure(figsize=(10, 6))\n",
        "sns.kdeplot(data=df, x='tenure', hue='Churn', fill=True)\n",
        "plt.title('Density Plot of Tenure by Churn')\n",
        "plt.xlabel('Tenure')\n",
        "plt.ylabel('Density')\n",
        "plt.show()"
      ],
      "metadata": {
        "id": "A7CNHRYAoFh2",
        "colab": {
          "base_uri": "https://localhost:8080/",
          "height": 415
        },
        "outputId": "6c8be0b6-f46e-47ea-8568-a041b6b498ec"
      },
      "execution_count": null,
      "outputs": [
        {
          "output_type": "display_data",
          "data": {
            "text/plain": [
              "<Figure size 1000x600 with 1 Axes>"
            ],
            "image/png": "[encoded data removed]"
          },
          "metadata": {}
        }
      ]
    },
    {
      "cell_type": "markdown",
      "source": [
        "###***Relation between Churn and Payment methods***"
      ],
      "metadata": {
        "id": "A4v_qeDdKCyE"
      }
    },
    {
      "cell_type": "code",
      "source": [
        "print(df['PaymentMethod'].unique())"
      ],
      "metadata": {
        "colab": {
          "base_uri": "https://localhost:8080/"
        },
        "id": "Ki2h7AP8S7wU",
        "outputId": "0df46fe5-5968-4415-bbaf-bbeadbb30622"
      },
      "execution_count": null,
      "outputs": [
        {
          "output_type": "stream",
          "name": "stdout",
          "text": [
            "['Electronic check' 'Mailed check' 'Bank transfer (automatic)'\n",
            " 'Credit card (automatic)']\n"
          ]
        }
      ]
    },
    {
      "cell_type": "code",
      "source": [
        "#Chrun rate for each payment method\n",
        "if df['Churn'].dtype == 'object':\n",
        "    df['Churn'] = df['Churn'].map({'Yes': 1, 'No': 0})\n",
        "churn_rate_by_payment = df.groupby('PaymentMethod')['Churn'].mean() * 100\n",
        "#print(churn_rate_by_payment)\n",
        "plt.figure(figsize=(10,6))\n",
        "churn_rate_by_payment.plot(kind='pie',autopct='%1.1f',startangle=140)\n",
        "plt.title('Chrun rate by Payment Method')\n",
        "plt.ylabel('')\n",
        "plt.show()"
      ],
      "metadata": {
        "id": "yqK-Qs2oN3k3",
        "colab": {
          "base_uri": "https://localhost:8080/",
          "height": 463
        },
        "outputId": "b2548a53-d9e9-470e-ea18-25852344387a"
      },
      "execution_count": null,
      "outputs": [
        {
          "output_type": "display_data",
          "data": {
            "text/plain": [
              "<Figure size 1000x600 with 1 Axes>"
            ],
            "image/png": "[encoded data removed]"
          },
          "metadata": {}
        }
      ]
    },
    {
      "cell_type": "code",
      "source": [
        "from scipy.stats import chi2_contingency\n",
        "# Create a contingency table\n",
        "contingency_table = pd.crosstab(df['PaymentMethod'], df['Churn'])\n",
        "print(contingency_table)\n",
        "\n",
        "# Perform the Chi-Square Test of Independence\n",
        "chi2, p, dof, expected = chi2_contingency(contingency_table)\n",
        "\n",
        "# Output the results\n",
        "print(f\"Chi-Square Test Statistic: {chi2}\")\n",
        "print(f\"p-value: {p}\")\n",
        "print(f\"Degrees of Freedom: {dof}\")\n",
        "print(\"Expected Frequencies:\")\n",
        "print(expected)\n",
        "\n",
        "# Interpretation\n",
        "alpha = 0.05\n",
        "if p < alpha:\n",
        "    print(\"Reject the null hypothesis - There is a significant association between churn and payment method.\")\n",
        "else:\n",
        "    print(\"Fail to reject the null hypothesis - There is no significant association between churn and payment method.\")\n"
      ],
      "metadata": {
        "colab": {
          "base_uri": "https://localhost:8080/"
        },
        "id": "zVtwuPxqpyIL",
        "outputId": "dce27868-de2e-495c-8adf-5ee141fdd9f0"
      },
      "execution_count": null,
      "outputs": [
        {
          "output_type": "stream",
          "name": "stdout",
          "text": [
            "Churn                         0     1\n",
            "PaymentMethod                        \n",
            "Bank transfer (automatic)  1286   258\n",
            "Credit card (automatic)    1290   232\n",
            "Electronic check           1294  1071\n",
            "Mailed check               1304   308\n",
            "Chi-Square Test Statistic: 648.1423274814\n",
            "p-value: 3.6823546520097993e-140\n",
            "Degrees of Freedom: 3\n",
            "Expected Frequencies:\n",
            "[[1134.26891949  409.73108051]\n",
            " [1118.10705665  403.89294335]\n",
            " [1737.40025557  627.59974443]\n",
            " [1184.22376828  427.77623172]]\n",
            "Reject the null hypothesis - There is a significant association between churn and payment method.\n"
          ]
        }
      ]
    },
    {
      "cell_type": "code",
      "source": [
        "print(df['Contract'].unique())"
      ],
      "metadata": {
        "colab": {
          "base_uri": "https://localhost:8080/"
        },
        "id": "5H-Zg4DlAEum",
        "outputId": "345a4bac-edb2-46d3-ff73-21ced5dcf8f9"
      },
      "execution_count": null,
      "outputs": [
        {
          "output_type": "stream",
          "name": "stdout",
          "text": [
            "['Month-to-month' 'One year' 'Two year']\n"
          ]
        }
      ]
    },
    {
      "cell_type": "code",
      "source": [
        "# Map contract types to numeric values for frequency calculation\n",
        "contract_mapping = {'Month-to-month': 1, 'One year': 2, 'Two year': 3}\n",
        "df['Contract'] = df['Contract'].map(contract_mapping)\n",
        "\n",
        "# Calculate the RFM scores\n",
        "df['R_Score'] = pd.qcut(df['tenure'], 5, labels=range(5, 0, -1))\n",
        "df['F_Score'] = pd.qcut(df['Contract'].rank(method='first'), 5, labels=range(1, 6))\n",
        "df['M_Score'] = pd.qcut(df['MonthlyCharges'], 5, labels=range(1, 6))\n",
        "\n",
        "# Combine R, F, M scores into a single RFM score\n",
        "df['RFM_Score'] = df['R_Score'].astype(str) + df['F_Score'].astype(str) + df['M_Score'].astype(str)\n",
        "\n",
        "print(df[['tenure', 'MonthlyCharges', 'Contract', 'RFM_Score']].head())\n"
      ],
      "metadata": {
        "colab": {
          "base_uri": "https://localhost:8080/"
        },
        "id": "VP5Gs6upzrCV",
        "outputId": "b93607c3-a1ee-489c-bd6d-35cfcc32f69f"
      },
      "execution_count": null,
      "outputs": [
        {
          "output_type": "stream",
          "name": "stdout",
          "text": [
            "   tenure  MonthlyCharges  Contract RFM_Score\n",
            "0       1           29.85         1       512\n",
            "1      34           56.95         2       332\n",
            "2       2           53.85         1       512\n",
            "3      45           42.30         2       232\n",
            "4       2           70.70         1       513\n"
          ]
        }
      ]
    },
    {
      "cell_type": "code",
      "source": [
        "# Segment customers based on RFM score\n",
        "def segment_customers(df):\n",
        "    if df['RFM_Score'] == '555':\n",
        "        return 'Champions'\n",
        "    elif df['RFM_Score'].startswith('5'):\n",
        "        return 'Loyal Customers'\n",
        "    elif df['RFM_Score'].endswith('5'):\n",
        "        return 'Big Spenders'\n",
        "    elif df['RFM_Score'][0] == '1':\n",
        "        return 'At Risk'\n",
        "    elif df['RFM_Score'][1] == '1':\n",
        "        return 'Needs Attention'\n",
        "    else:\n",
        "        return 'Other'\n",
        "\n",
        "df['Segment'] = df.apply(segment_customers, axis=1)\n",
        "\n",
        "# Print the first few rows of the dataframe with the new segment column\n",
        "print(df[['RFM_Score', 'Segment']].head())\n"
      ],
      "metadata": {
        "colab": {
          "base_uri": "https://localhost:8080/"
        },
        "id": "wURJ_UIpztgN",
        "outputId": "07e453ef-8ad1-4b41-a651-b491cbdeef89"
      },
      "execution_count": null,
      "outputs": [
        {
          "output_type": "stream",
          "name": "stdout",
          "text": [
            "  RFM_Score          Segment\n",
            "0       512  Loyal Customers\n",
            "1       332            Other\n",
            "2       512  Loyal Customers\n",
            "3       232            Other\n",
            "4       513  Loyal Customers\n"
          ]
        }
      ]
    },
    {
      "cell_type": "code",
      "source": [
        "# Convert 'Churn' column to binary encoding if necessary\n",
        "if df['Churn'].dtype == 'object':\n",
        "    df['Churn'] = df['Churn'].map({'Yes': 1, 'No': 0})\n",
        "\n",
        "# Calculate churn rates for each segment\n",
        "churn_rate_by_segment = df.groupby('Segment')['Churn'].mean()\n",
        "\n",
        "print(churn_rate_by_segment)\n",
        "\n",
        "plt.figure(figsize=(10, 6))\n",
        "sns.barplot(x=churn_rate_by_segment.index, y=churn_rate_by_segment.values)\n",
        "plt.xlabel('Customer Segment')\n",
        "plt.ylabel('Churn Rate')\n",
        "plt.title('Churn Rate by Customer Segment')\n",
        "plt.xticks(rotation=45)\n",
        "plt.show()\n"
      ],
      "metadata": {
        "colab": {
          "base_uri": "https://localhost:8080/",
          "height": 603
        },
        "id": "R-CucnTn0QR4",
        "outputId": "dd65500c-ae31-48da-c289-2ba616c1ea4c"
      },
      "execution_count": null,
      "outputs": [
        {
          "output_type": "stream",
          "name": "stdout",
          "text": [
            "Segment\n",
            "At Risk            0.029115\n",
            "Big Spenders       0.302917\n",
            "Loyal Customers    0.529372\n",
            "Needs Attention    0.312966\n",
            "Other              0.166855\n",
            "Name: Churn, dtype: float64\n"
          ]
        },
        {
          "output_type": "display_data",
          "data": {
            "text/plain": [
              "<Figure size 1000x600 with 1 Axes>"
            ],
            "image/png": "[encoded data removed]"
          },
          "metadata": {}
        }
      ]
    },
    {
      "cell_type": "code",
      "source": [
        "df.dtypes"
      ],
      "metadata": {
        "colab": {
          "base_uri": "https://localhost:8080/"
        },
        "id": "gUyqMP3Jse1D",
        "outputId": "aaf0aead-e38a-478d-ed96-b87a34cb3a43"
      },
      "execution_count": null,
      "outputs": [
        {
          "output_type": "execute_result",
          "data": {
            "text/plain": [
              "customerID            object\n",
              "gender                object\n",
              "SeniorCitizen          int64\n",
              "Partner               object\n",
              "Dependents            object\n",
              "tenure                 int64\n",
              "PhoneService          object\n",
              "MultipleLines         object\n",
              "InternetService       object\n",
              "OnlineSecurity        object\n",
              "OnlineBackup          object\n",
              "DeviceProtection      object\n",
              "TechSupport           object\n",
              "StreamingTV           object\n",
              "StreamingMovies       object\n",
              "Contract               int64\n",
              "PaperlessBilling      object\n",
              "PaymentMethod         object\n",
              "MonthlyCharges       float64\n",
              "TotalCharges          object\n",
              "Churn                  int64\n",
              "R_Score             category\n",
              "F_Score             category\n",
              "M_Score             category\n",
              "RFM_Score             object\n",
              "Segment               object\n",
              "dtype: object"
            ]
          },
          "metadata": {},
          "execution_count": 21
        }
      ]
    },
    {
      "cell_type": "markdown",
      "source": [
        "###**Training the model**"
      ],
      "metadata": {
        "id": "tN38uZvjv4op"
      }
    },
    {
      "cell_type": "markdown",
      "source": [
        "### Feature Selection"
      ],
      "metadata": {
        "id": "Z2bWazdbwDeE"
      }
    },
    {
      "cell_type": "code",
      "source": [
        "import numpy as np\n",
        "from sklearn.model_selection import train_test_split\n",
        "from sklearn.linear_model import LogisticRegression\n",
        "from sklearn.preprocessing import StandardScaler\n",
        "from sklearn.pipeline import Pipeline\n",
        "from sklearn.metrics import accuracy_score, precision_score, recall_score, f1_score, roc_auc_score, confusion_matrix\n",
        "import statsmodels.api as sm\n",
        "import pandas as pd # Import pandas for data manipulation\n",
        "\n",
        "# Assuming 'df_encoded' is your DataFrame\n",
        "x = df_encoded.drop(['Churn_0', 'Churn_1'], axis=1)\n",
        "y = df_encoded['Churn_1']\n",
        "\n",
        "# Identify and handle non-numeric columns\n",
        "non_numeric_cols = x.select_dtypes(exclude=[np.number]).columns\n",
        "print(\"Non-numeric columns:\", non_numeric_cols) # Check which columns are non-numeric\n",
        "\n",
        "# Option 1: Drop non-numeric columns (if they are not crucial)\n",
        "x_numeric = x.drop(non_numeric_cols, axis=1)\n",
        "\n",
        "# Option 2: Convert non-numeric columns (if they contain useful information)\n",
        "# Example: If 'customerID' is non-numeric and needs conversion\n",
        "# x['customerID'] = x['customerID'].astype(int) # Or any suitable conversion\n",
        "\n",
        "# Proceed with the model after handling non-numeric columns\n",
        "x_numeric = sm.add_constant(x_numeric) # Add constant to the numeric DataFrame\n",
        "logit_model = sm.Logit(y, x_numeric).fit()\n",
        "print(logit_model.pvalues)\n",
        "Significant_features = logit_model.pvalues[logit_model.pvalues < 0.05].index.tolist()\n",
        "\n",
        "if 'const' in Significant_features:\n",
        "    Significant_features.remove('const')\n",
        "\n",
        "x_new = x_numeric[Significant_features] # Select features from the numeric DataFrame"
      ],
      "metadata": {
        "colab": {
          "base_uri": "https://localhost:8080/"
        },
        "id": "dub9aPRA0nM3",
        "outputId": "0058b338-8d57-408a-c4a5-abdcb6574972"
      },
      "execution_count": null,
      "outputs": [
        {
          "output_type": "stream",
          "name": "stdout",
          "text": [
            "Non-numeric columns: Index(['customerID', 'TotalCharges'], dtype='object')\n",
            "Warning: Maximum number of iterations has been exceeded.\n",
            "         Current function value: 0.415374\n",
            "         Iterations: 35\n",
            "const                 9.999980e-01\n",
            "gender_0              9.999998e-01\n",
            "gender_1              9.999999e-01\n",
            "SeniorCitizen         1.060272e-02\n",
            "Partner_0                      NaN\n",
            "Partner_1                      NaN\n",
            "Dependents_0          9.999996e-01\n",
            "Dependents_1          9.999994e-01\n",
            "tenure                2.789016e-47\n",
            "PhoneService_0                 NaN\n",
            "PhoneService_1        9.999995e-01\n",
            "MultipleLines_0                NaN\n",
            "MultipleLines_1       9.344484e-03\n",
            "InternetService_0              NaN\n",
            "InternetService_1              NaN\n",
            "OnlineSecurity_0      9.999999e-01\n",
            "OnlineSecurity_1      9.999999e-01\n",
            "OnlineBackup_0                 NaN\n",
            "OnlineBackup_1                 NaN\n",
            "DeviceProtection_0             NaN\n",
            "DeviceProtection_1             NaN\n",
            "TechSupport_0         9.999999e-01\n",
            "TechSupport_1         9.999999e-01\n",
            "StreamingTV_0                  NaN\n",
            "StreamingTV_1                  NaN\n",
            "StreamingMovies_0     1.000000e+00\n",
            "StreamingMovies_1     9.999998e-01\n",
            "Contract_0            6.200404e-15\n",
            "Contract_1            7.881148e-05\n",
            "PaperlessBilling_0             NaN\n",
            "PaperlessBilling_1             NaN\n",
            "PaymentMethod_0       8.423567e-03\n",
            "PaymentMethod_1       8.897541e-04\n",
            "PaymentMethod_2       9.628325e-01\n",
            "MonthlyCharges        3.056991e-01\n",
            "dtype: float64\n"
          ]
        },
        {
          "output_type": "stream",
          "name": "stderr",
          "text": [
            "/usr/local/lib/python3.10/dist-packages/statsmodels/base/model.py:607: ConvergenceWarning: Maximum Likelihood optimization failed to converge. Check mle_retvals\n",
            "  warnings.warn(\"Maximum Likelihood optimization failed to \"\n"
          ]
        }
      ]
    },
    {
      "cell_type": "code",
      "source": [
        "# Split the data into training and testing sets\n",
        "X_train, X_test, y_train, y_test = train_test_split(x_new, y, test_size=0.2, random_state=42)\n",
        "# Preprocessing pipeline (if needed)\n",
        "numeric_features = ['tenure', 'MonthlyCharges', 'TotalCharges']\n",
        "preprocessor = Pipeline(steps=[\n",
        "    ('scaler', StandardScaler())\n",
        "])\n",
        "\n",
        "# Logistic Regression model\n",
        "model = Pipeline(steps=[\n",
        "    ('preprocessor', preprocessor),\n",
        "    ('classifier', LogisticRegression(max_iter=1000))\n",
        "])\n",
        "\n",
        "# Train the model\n",
        "model.fit(X_train, y_train)\n",
        "\n",
        "# Make predictions\n",
        "y_pred = model.predict(X_test)\n",
        "\n",
        "# Evaluate the model\n",
        "print(\"Accuracy:\", accuracy_score(y_test, y_pred))\n",
        "print(\"Precision:\", precision_score(y_test, y_pred))\n",
        "print(\"Recall:\", recall_score(y_test, y_pred))\n",
        "print(\"F1 Score:\", f1_score(y_test, y_pred))\n",
        "print(\"AUC-ROC:\", roc_auc_score(y_test, y_pred))\n",
        "\n",
        "# Confusion Matrix\n",
        "cm = confusion_matrix(y_test, y_pred)\n",
        "plt.figure(figsize=(8, 6))\n",
        "sns.heatmap(cm, annot=True, fmt='d', cmap='Blues')\n",
        "plt.xlabel('Predicted')\n",
        "plt.ylabel('Actual')\n",
        "plt.title('Confusion Matrix')\n",
        "plt.show()"
      ],
      "metadata": {
        "colab": {
          "base_uri": "https://localhost:8080/",
          "height": 634
        },
        "id": "3cvazlNG0x09",
        "outputId": "8b83c4c7-6359-480b-88fe-c8326ea36587"
      },
      "execution_count": null,
      "outputs": [
        {
          "output_type": "stream",
          "name": "stdout",
          "text": [
            "Accuracy: 0.7814052519517388\n",
            "Precision: 0.8204225352112676\n",
            "Recall: 0.8996138996138996\n",
            "F1 Score: 0.8581952117863719\n",
            "AUC-ROC: 0.6763485047667352\n"
          ]
        },
        {
          "output_type": "display_data",
          "data": {
            "text/plain": [
              "<Figure size 800x600 with 2 Axes>"
            ],
            "image/png": "[encoded data removed]"
          },
          "metadata": {}
        }
      ]
    }
  ]
}